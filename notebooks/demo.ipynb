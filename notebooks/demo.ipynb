{
 "cells": [
  {
   "cell_type": "markdown",
   "id": "37bcec3b",
   "metadata": {},
   "source": [
    "# Speech Synthesis & Voice Cloning Demo\n",
    "This notebook demonstrates basic usage of the TTS and voice cloning pipeline."
   ]
  },
  {
   "cell_type": "code",
   "execution_count": null,
   "id": "fac8098c",
   "metadata": {},
   "outputs": [],
   "source": [
    "!pip install -r ../requirements.txt"
   ]
  },
  {
   "cell_type": "code",
   "execution_count": null,
   "id": "22785ff3",
   "metadata": {},
   "outputs": [],
   "source": [
    "from src import infer, clone\n",
    "# Example: Synthesize speech\n",
    "class Args: pass\n",
    "args = Args()\n",
    "args.model = '../models/yourtts_checkpoint.pth'\n",
    "args.text = 'Hello, this is a test.'\n",
    "args.output = 'output.wav'\n",
    "infer.run(args)\n",
    "# Example: Voice cloning\n",
    "args = Args()\n",
    "args.model = '../models/yourtts_checkpoint.pth'\n",
    "args.reference = '../data/sample.wav'\n",
    "args.text = 'This is a cloned voice.'\n",
    "args.output = 'cloned.wav'\n",
    "clone.run(args)"
   ]
  }
 ],
 "metadata": {
  "language_info": {
   "name": "python"
  }
 },
 "nbformat": 4,
 "nbformat_minor": 5
}
